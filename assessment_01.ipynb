{
  "cells": [
    {
      "cell_type": "markdown",
      "metadata": {
        "colab_type": "text",
        "id": "ItWhqRu49r9_"
      },
      "source": [
        "# Assessment 1: Regression Analysis \n",
        "\n",
        "\n",
        "\n",
        "\n",
        "\n"
      ]
    },
    {
      "cell_type": "markdown",
      "metadata": {
        "colab_type": "text",
        "id": "-ctR3Nfz9r-D"
      },
      "source": [
        "# 1. Stage One - Determine Business Objectives and Assess the Situation  <a class=\"anchor\"></a>\n",
        "In the modern wine industry, the quality of the product is the paramount factor which determines the success in the market and brand reputation. The existing quality certification practices rely on the application of physicochemical tests and supplemented by sensory tests that are carried out by human experts (Nebot et al., 2015). This traditional approach creates a significant business problem as it fully relies on subjective human taste and the process is also expensive. Moreover, these tests occur at the end of the production cycle when a huge portion of time and money have already been invested. This late quality assessment makes the discovery of a poor-quality batch particularly costly  as the entire production process may need to be repeated. <br>\n",
        "\n",
        "This project directly addresses the inefficiency and financial risk of this reactive quality control model. The objective of the project is to design a predictive analytics model based on the machine learning (ML) techniques using the well-known <a href=\"https://archive.ics.uci.edu/dataset/186/wine+quality\">Wine Quality</a> dataset from the UCI Machine Learning Repository to estimate the quality of wine(ranging from 0 to 10) based on its objective physicochemical characteristics. Such a model will help solve the business problem by transforming quality assessment from a subjective, lagging indicator into an objective, data-driven decision support system. Consequently, winemakers could easily keep track and control quality trends during the production time, referring to the model findings in order to make timely modifications, improving the end product and minimizing the risk of creating low-quality batches (Nebot et al., 2015).\n",
        "\n",
        "## 1.1 Success Criteria\n",
        "Technical effectiveness of the project is measured by three main criteria which correlate modeling results with a real business value.\n",
        "* **Benchmark Predictive Accuracy**: A predictive model will be developed using advanced algorithms (e.g., Gradient Boosting) that achieves a Mean Absolute Error (MAE) of less than 0.50. This performance is required to represent at least a 15% accuracy improvement over a standard linear regression baseline\n",
        "* **Actionable Feature Extraction**: The project will have to determine and prioritize the key physicochemical determinants of wine quality, such as alcohol levels, acidity, and sulphates. This analytical insights gives winemakers the intelligence needed to maximise production by making targeted decisions.\n",
        "* **Robust Multi-Metric Validation**: Model superiority will be confirmed through robust validation using two key metrics. Performance will be measured using Mean Absolute Error(MAE) in order to make it easy to interpret business. Besides, the Coefficient of Determination (R-squared) will be utilized to confirm the ability of the model to explain variance in quality scores.\n"
      ]
    },
    {
      "cell_type": "markdown",
      "metadata": {
        "colab_type": "text",
        "id": "Q7RZpV__9r-E"
      },
      "source": [
        "## 1.2 Assess the Current Situation<a class=\"anchor\"></a>"
      ]
    },
    {
      "cell_type": "markdown",
      "metadata": {
        "colab_type": "text",
        "id": "zv2qPfF99r-G"
      },
      "source": [
        "List the resources available to the project including:\n",
        "\n",
        "* **Personnel**: The project will be conducted by Md. Arifuzzaman Munaf, a postgraduate student specializing in Artificial Intelligence. Responsibilities include data acquisition, exploratory analysis, model building, evaluation, and reporting. The project will also draw on open research, such as the original UCI dataset documentation and published academic analyses on wine quality prediction using machine learning.\n",
        "* **Data**: The dataset comes from the UCI Machine Learning Repository and comprises two files: <br>\n",
        "\t*\t**winequality-red.csv** – 1,599 samples of red wine\n",
        "\t*\t**winequality-white.csv** – 4,898 samples of white wine<br>\n",
        "\n",
        "    Both datasets contain 11 physicochemical input variables and one target variable. The data is clean and well-structured, with no missing values, and has    been widely used in literature for regression and classification experiments (Cortez et al., 2009).\n",
        "\n",
        "\n",
        "* **Computing resources**: The project will primarily use Google Colab, a cloud-based Jupyter notebook platform with access to:\n",
        "\t*\t≈12.5 GB RAM and up to 2 vCPUs\n",
        "\t*\tOptional GPU/TPU acceleration if needed\n",
        "\t*\tGoogle Drive integration for version control\n",
        "\n",
        "    If necessary, a local device with 16 GB RAM and M3 processor 8-core CPU can be used for smaller tests or debugging.\n",
        "* **Software**: The project will use Python 3.11.13 in the Colab environment. The following packages will support the machine learning workflow:\n",
        "\t*\tpandas, numpy: data handling and numerical operations\n",
        "\t*\tmatplotlib, seaborn: visualization and exploratory data analysis\n",
        "\t*\tscikit-learn: regression models, evaluation, and pipeline design\n",
        "\t*\txgboost, lightgbm: gradient boosting models for improved performance\n",
        "\n",
        "    The project will also use GitHub for version control and Google Scholar for referencing relevant academic papers.\n"
      ]
    },
    {
      "cell_type": "markdown",
      "metadata": {
        "colab_type": "text",
        "id": "EtZ510Vd9r-H"
      },
      "source": [
        "# 2. Stage  Two - Data Understanding <a class=\"anchor\"></a>\n",
        "The dataset used for this project is the Wine Quality Dataset, publicly available from the UCI Machine Learning Repository:\n",
        "https://archive.ics.uci.edu/dataset/186/wine+quality\n",
        "\n",
        "The dataset includes measurements of the physicochemical and sensory quality of two varieties of Portuguese wine (Vinho Verde) red wine (1,599 samples) and white wine (4,898 samples). The samples are coded with 11 numerical inputs based on physicochemical tests, and a single class variable of a quality score of 0 to 10, set by trained sensory assessors.\n",
        "\n",
        "The features include metrics such as:\n",
        "* Fixed acidity\n",
        "* Volatile acidity\n",
        "* Citric acid\n",
        "* Residual sugar\n",
        "* Chlorides\n",
        "* Free sulfur dioxide\n",
        "* Total sulfur dioxide\n",
        "* Density\n",
        "* pH\n",
        "* Sulphates\n",
        "* Alcohol\n",
        "\n",
        "The dataset has no missing values, and is formatted as two CSV files: winequality-red.csv and winequality-white.csv. Each file has the same schema, allowing for independent modeling or unified analysis with wine type as an added categorical feature.\n",
        "\n",
        "This dataset was first published by Cortez et al. (2009) in which they used it to compare a range of machine-learning algorithms in predicting wine preferences. Due to its very large feature set and realistic application, the dataset has become a typical point of reference in studies of regression, classification, and feature selection tasks."
      ]
    },
    {
      "cell_type": "markdown",
      "metadata": {
        "colab_type": "text",
        "id": "i10LYwYq9r-H"
      },
      "source": [
        "## 2.1 Initial Data Acquisition <a class=\"anchor\"></a>\n",
        "The dataset was originally downloaded via the UCI Machine Learning Repository and rehosted on a personal GitHub repository to allow easier and consistent data access during the development process. This will ensure that there is no need to upload dataset files repeatedly to Google Colab and hence facilitate reproducible workflow integration.\n",
        "\n",
        "Two files were in the form of a comma-separated value (CSV) format with each file comprising physicochemical properties and quality ratings of red and white wine, respectively. Both files were accessed and combined into one dataset to perform a unified analysis.\n",
        "\n",
        "The datasets are hosted at:\n",
        "* **Red wine**: https://github.com/Arifuzzaman-Munaf/dataset/blob/main/winequality-red.csv\n",
        "* **White wine**: https://github.com/Arifuzzaman-Munaf/dataset/blob/main/winequality-white.csv"
      ]
    },
    {
      "cell_type": "code",
      "execution_count": 31,
      "metadata": {
        "colab": {},
        "colab_type": "code",
        "id": "_6RVBpQI9r-I"
      },
      "outputs": [],
      "source": [
        "# Import Libraries Required\n",
        "import pandas as pd\n",
        "import matplotlib.pyplot as plt\n",
        "import numpy as np\n",
        "import seaborn as sns"
      ]
    },
    {
      "cell_type": "code",
      "execution_count": 54,
      "metadata": {},
      "outputs": [],
      "source": [
        "!pip3 -q install wget   # install wget in quiet mode\n",
        "\n",
        "!mkdir -p dataset # create a directory to store the dataset files\n",
        "\n",
        "# download the files from the URL to the dataset directory\n",
        "!wget -q -O dataset/winequality-red.csv \"https://raw.githubusercontent.com/Arifuzzaman-Munaf/dataset/main/winequality-red.csv\"\n",
        "!wget -q -O dataset/winequality-white.csv \"https://raw.githubusercontent.com/Arifuzzaman-Munaf/dataset/main/winequality-white.csv\""
      ]
    },
    {
      "cell_type": "code",
      "execution_count": 77,
      "metadata": {
        "colab": {},
        "colab_type": "code",
        "id": "vRu3idD59r-U"
      },
      "outputs": [
        {
          "name": "stdout",
          "output_type": "stream",
          "text": [
            "The datasets have been combined successfully.\n"
          ]
        }
      ],
      "source": [
        "# Read the red and white wine datasets from CSV files, using semicolon as separator\n",
        "df_red_wine = pd.read_csv('dataset/winequality-red.csv', sep=';')\n",
        "df_white_wine = pd.read_csv('dataset/winequality-white.csv', sep=';')\n",
        "\n",
        "# Add a new column 'wine_type' to identify the wine type\n",
        "df_red_wine['wine_type'] = 'red'\n",
        "df_white_wine['wine_type'] = 'white'\n",
        "\n",
        "# Combine both datasets into a single dataframe, ignoring the index to avoid index duplication\n",
        "df = pd.concat([df_red_wine, df_white_wine], ignore_index=True)\n",
        "\n",
        "# Check if the combined dataset has the correct number of rows\n",
        "if df.shape[0] == df_red_wine.shape[0] + df_white_wine.shape[0]:\n",
        "    print(\"The datasets have been combined successfully.\")\n",
        "else:\n",
        "    print(f\"The dataset has {df.shape[0]} rows, but expected {df_red_wine.shape[0] + df_white_wine.shape[0]} rows.\")"
      ]
    },
    {
      "cell_type": "markdown",
      "metadata": {
        "colab_type": "text",
        "id": "ULd3-Y7r9r-X"
      },
      "source": [
        "## 2.2 Describe Data <a class=\"anchor\"></a>"
      ]
    },
    {
      "cell_type": "code",
      "execution_count": 79,
      "metadata": {
        "colab": {},
        "colab_type": "code",
        "id": "9djkYjgm9r-X"
      },
      "outputs": [
        {
          "name": "stdout",
          "output_type": "stream",
          "text": [
            "The columns in the dataset are:\n",
            "Index(['fixed acidity', 'volatile acidity', 'citric acid', 'residual sugar',\n",
            "       'chlorides', 'free sulfur dioxide', 'total sulfur dioxide', 'density',\n",
            "       'pH', 'sulphates', 'alcohol', 'quality', 'wine_type'],\n",
            "      dtype='object')\n",
            "\n",
            "The shape of the dataset is: (6497, 13)\n",
            "\n",
            "The data types of the columns are:\n",
            "fixed acidity           float64\n",
            "volatile acidity        float64\n",
            "citric acid             float64\n",
            "residual sugar          float64\n",
            "chlorides               float64\n",
            "free sulfur dioxide     float64\n",
            "total sulfur dioxide    float64\n",
            "density                 float64\n",
            "pH                      float64\n",
            "sulphates               float64\n",
            "alcohol                 float64\n",
            "quality                   int64\n",
            "wine_type                object\n",
            "dtype: object\n",
            "\n"
          ]
        }
      ],
      "source": [
        "#df.columns, df.shape, df.dtypes, df.describe(), df.info() and df.head(10) Use Pandas to explore and clean up your tabular data \n",
        "print(f\"The columns in the dataset are:\\n{df.columns}\\n\")\n",
        "print(f\"The shape of the dataset is: {df.shape}\\n\")\n",
        "print(f\"The data types of the columns are:\\n{df.dtypes}\\n\")"
      ]
    },
    {
      "cell_type": "markdown",
      "metadata": {},
      "source": [
        "It is clearly visible that the dataset has 6497 entries which is equal to sum of entries of both dataset. All the colums except `quality` and `wine_typw` contain floating numbers as expected. `quality` represents the target containing an integer in [3,10] interval and `wine_type` is customly created column for recognising wine type."
      ]
    },
    {
      "cell_type": "code",
      "execution_count": 86,
      "metadata": {},
      "outputs": [
        {
          "data": {
            "text/html": [
              "<div>\n",
              "<style scoped>\n",
              "    .dataframe tbody tr th:only-of-type {\n",
              "        vertical-align: middle;\n",
              "    }\n",
              "\n",
              "    .dataframe tbody tr th {\n",
              "        vertical-align: top;\n",
              "    }\n",
              "\n",
              "    .dataframe thead th {\n",
              "        text-align: right;\n",
              "    }\n",
              "</style>\n",
              "<table border=\"1\" class=\"dataframe\">\n",
              "  <thead>\n",
              "    <tr style=\"text-align: right;\">\n",
              "      <th></th>\n",
              "      <th>count</th>\n",
              "      <th>mean</th>\n",
              "      <th>std</th>\n",
              "      <th>min</th>\n",
              "      <th>25%</th>\n",
              "      <th>50%</th>\n",
              "      <th>75%</th>\n",
              "      <th>max</th>\n",
              "    </tr>\n",
              "  </thead>\n",
              "  <tbody>\n",
              "    <tr>\n",
              "      <th>fixed acidity</th>\n",
              "      <td>6497.0</td>\n",
              "      <td>7.215307</td>\n",
              "      <td>1.296434</td>\n",
              "      <td>3.80000</td>\n",
              "      <td>6.40000</td>\n",
              "      <td>7.00000</td>\n",
              "      <td>7.70000</td>\n",
              "      <td>15.90000</td>\n",
              "    </tr>\n",
              "    <tr>\n",
              "      <th>volatile acidity</th>\n",
              "      <td>6497.0</td>\n",
              "      <td>0.339666</td>\n",
              "      <td>0.164636</td>\n",
              "      <td>0.08000</td>\n",
              "      <td>0.23000</td>\n",
              "      <td>0.29000</td>\n",
              "      <td>0.40000</td>\n",
              "      <td>1.58000</td>\n",
              "    </tr>\n",
              "    <tr>\n",
              "      <th>citric acid</th>\n",
              "      <td>6497.0</td>\n",
              "      <td>0.318633</td>\n",
              "      <td>0.145318</td>\n",
              "      <td>0.00000</td>\n",
              "      <td>0.25000</td>\n",
              "      <td>0.31000</td>\n",
              "      <td>0.39000</td>\n",
              "      <td>1.66000</td>\n",
              "    </tr>\n",
              "    <tr>\n",
              "      <th>residual sugar</th>\n",
              "      <td>6497.0</td>\n",
              "      <td>5.443235</td>\n",
              "      <td>4.757804</td>\n",
              "      <td>0.60000</td>\n",
              "      <td>1.80000</td>\n",
              "      <td>3.00000</td>\n",
              "      <td>8.10000</td>\n",
              "      <td>65.80000</td>\n",
              "    </tr>\n",
              "    <tr>\n",
              "      <th>chlorides</th>\n",
              "      <td>6497.0</td>\n",
              "      <td>0.056034</td>\n",
              "      <td>0.035034</td>\n",
              "      <td>0.00900</td>\n",
              "      <td>0.03800</td>\n",
              "      <td>0.04700</td>\n",
              "      <td>0.06500</td>\n",
              "      <td>0.61100</td>\n",
              "    </tr>\n",
              "    <tr>\n",
              "      <th>free sulfur dioxide</th>\n",
              "      <td>6497.0</td>\n",
              "      <td>30.525319</td>\n",
              "      <td>17.749400</td>\n",
              "      <td>1.00000</td>\n",
              "      <td>17.00000</td>\n",
              "      <td>29.00000</td>\n",
              "      <td>41.00000</td>\n",
              "      <td>289.00000</td>\n",
              "    </tr>\n",
              "    <tr>\n",
              "      <th>total sulfur dioxide</th>\n",
              "      <td>6497.0</td>\n",
              "      <td>115.744574</td>\n",
              "      <td>56.521855</td>\n",
              "      <td>6.00000</td>\n",
              "      <td>77.00000</td>\n",
              "      <td>118.00000</td>\n",
              "      <td>156.00000</td>\n",
              "      <td>440.00000</td>\n",
              "    </tr>\n",
              "    <tr>\n",
              "      <th>density</th>\n",
              "      <td>6497.0</td>\n",
              "      <td>0.994697</td>\n",
              "      <td>0.002999</td>\n",
              "      <td>0.98711</td>\n",
              "      <td>0.99234</td>\n",
              "      <td>0.99489</td>\n",
              "      <td>0.99699</td>\n",
              "      <td>1.03898</td>\n",
              "    </tr>\n",
              "    <tr>\n",
              "      <th>pH</th>\n",
              "      <td>6497.0</td>\n",
              "      <td>3.218501</td>\n",
              "      <td>0.160787</td>\n",
              "      <td>2.72000</td>\n",
              "      <td>3.11000</td>\n",
              "      <td>3.21000</td>\n",
              "      <td>3.32000</td>\n",
              "      <td>4.01000</td>\n",
              "    </tr>\n",
              "    <tr>\n",
              "      <th>sulphates</th>\n",
              "      <td>6497.0</td>\n",
              "      <td>0.531268</td>\n",
              "      <td>0.148806</td>\n",
              "      <td>0.22000</td>\n",
              "      <td>0.43000</td>\n",
              "      <td>0.51000</td>\n",
              "      <td>0.60000</td>\n",
              "      <td>2.00000</td>\n",
              "    </tr>\n",
              "    <tr>\n",
              "      <th>alcohol</th>\n",
              "      <td>6497.0</td>\n",
              "      <td>10.491801</td>\n",
              "      <td>1.192712</td>\n",
              "      <td>8.00000</td>\n",
              "      <td>9.50000</td>\n",
              "      <td>10.30000</td>\n",
              "      <td>11.30000</td>\n",
              "      <td>14.90000</td>\n",
              "    </tr>\n",
              "    <tr>\n",
              "      <th>quality</th>\n",
              "      <td>6497.0</td>\n",
              "      <td>5.818378</td>\n",
              "      <td>0.873255</td>\n",
              "      <td>3.00000</td>\n",
              "      <td>5.00000</td>\n",
              "      <td>6.00000</td>\n",
              "      <td>6.00000</td>\n",
              "      <td>9.00000</td>\n",
              "    </tr>\n",
              "  </tbody>\n",
              "</table>\n",
              "</div>"
            ],
            "text/plain": [
              "                       count        mean        std      min       25%  \\\n",
              "fixed acidity         6497.0    7.215307   1.296434  3.80000   6.40000   \n",
              "volatile acidity      6497.0    0.339666   0.164636  0.08000   0.23000   \n",
              "citric acid           6497.0    0.318633   0.145318  0.00000   0.25000   \n",
              "residual sugar        6497.0    5.443235   4.757804  0.60000   1.80000   \n",
              "chlorides             6497.0    0.056034   0.035034  0.00900   0.03800   \n",
              "free sulfur dioxide   6497.0   30.525319  17.749400  1.00000  17.00000   \n",
              "total sulfur dioxide  6497.0  115.744574  56.521855  6.00000  77.00000   \n",
              "density               6497.0    0.994697   0.002999  0.98711   0.99234   \n",
              "pH                    6497.0    3.218501   0.160787  2.72000   3.11000   \n",
              "sulphates             6497.0    0.531268   0.148806  0.22000   0.43000   \n",
              "alcohol               6497.0   10.491801   1.192712  8.00000   9.50000   \n",
              "quality               6497.0    5.818378   0.873255  3.00000   5.00000   \n",
              "\n",
              "                            50%        75%        max  \n",
              "fixed acidity           7.00000    7.70000   15.90000  \n",
              "volatile acidity        0.29000    0.40000    1.58000  \n",
              "citric acid             0.31000    0.39000    1.66000  \n",
              "residual sugar          3.00000    8.10000   65.80000  \n",
              "chlorides               0.04700    0.06500    0.61100  \n",
              "free sulfur dioxide    29.00000   41.00000  289.00000  \n",
              "total sulfur dioxide  118.00000  156.00000  440.00000  \n",
              "density                 0.99489    0.99699    1.03898  \n",
              "pH                      3.21000    3.32000    4.01000  \n",
              "sulphates               0.51000    0.60000    2.00000  \n",
              "alcohol                10.30000   11.30000   14.90000  \n",
              "quality                 6.00000    6.00000    9.00000  "
            ]
          },
          "execution_count": 86,
          "metadata": {},
          "output_type": "execute_result"
        }
      ],
      "source": [
        "df.describe().T"
      ]
    },
    {
      "cell_type": "code",
      "execution_count": 81,
      "metadata": {},
      "outputs": [
        {
          "name": "stdout",
          "output_type": "stream",
          "text": [
            "<class 'pandas.core.frame.DataFrame'>\n",
            "RangeIndex: 6497 entries, 0 to 6496\n",
            "Data columns (total 13 columns):\n",
            " #   Column                Non-Null Count  Dtype  \n",
            "---  ------                --------------  -----  \n",
            " 0   fixed acidity         6497 non-null   float64\n",
            " 1   volatile acidity      6497 non-null   float64\n",
            " 2   citric acid           6497 non-null   float64\n",
            " 3   residual sugar        6497 non-null   float64\n",
            " 4   chlorides             6497 non-null   float64\n",
            " 5   free sulfur dioxide   6497 non-null   float64\n",
            " 6   total sulfur dioxide  6497 non-null   float64\n",
            " 7   density               6497 non-null   float64\n",
            " 8   pH                    6497 non-null   float64\n",
            " 9   sulphates             6497 non-null   float64\n",
            " 10  alcohol               6497 non-null   float64\n",
            " 11  quality               6497 non-null   int64  \n",
            " 12  wine_type             6497 non-null   object \n",
            "dtypes: float64(11), int64(1), object(1)\n",
            "memory usage: 660.0+ KB\n"
          ]
        }
      ],
      "source": [
        "df.info()"
      ]
    },
    {
      "cell_type": "code",
      "execution_count": 83,
      "metadata": {},
      "outputs": [
        {
          "data": {
            "text/html": [
              "<div>\n",
              "<style scoped>\n",
              "    .dataframe tbody tr th:only-of-type {\n",
              "        vertical-align: middle;\n",
              "    }\n",
              "\n",
              "    .dataframe tbody tr th {\n",
              "        vertical-align: top;\n",
              "    }\n",
              "\n",
              "    .dataframe thead th {\n",
              "        text-align: right;\n",
              "    }\n",
              "</style>\n",
              "<table border=\"1\" class=\"dataframe\">\n",
              "  <thead>\n",
              "    <tr style=\"text-align: right;\">\n",
              "      <th></th>\n",
              "      <th>fixed acidity</th>\n",
              "      <th>volatile acidity</th>\n",
              "      <th>citric acid</th>\n",
              "      <th>residual sugar</th>\n",
              "      <th>chlorides</th>\n",
              "      <th>free sulfur dioxide</th>\n",
              "      <th>total sulfur dioxide</th>\n",
              "      <th>density</th>\n",
              "      <th>pH</th>\n",
              "      <th>sulphates</th>\n",
              "      <th>alcohol</th>\n",
              "      <th>quality</th>\n",
              "      <th>wine_type</th>\n",
              "    </tr>\n",
              "  </thead>\n",
              "  <tbody>\n",
              "    <tr>\n",
              "      <th>0</th>\n",
              "      <td>7.4</td>\n",
              "      <td>0.70</td>\n",
              "      <td>0.00</td>\n",
              "      <td>1.9</td>\n",
              "      <td>0.076</td>\n",
              "      <td>11.0</td>\n",
              "      <td>34.0</td>\n",
              "      <td>0.9978</td>\n",
              "      <td>3.51</td>\n",
              "      <td>0.56</td>\n",
              "      <td>9.4</td>\n",
              "      <td>5</td>\n",
              "      <td>red</td>\n",
              "    </tr>\n",
              "    <tr>\n",
              "      <th>1</th>\n",
              "      <td>7.8</td>\n",
              "      <td>0.88</td>\n",
              "      <td>0.00</td>\n",
              "      <td>2.6</td>\n",
              "      <td>0.098</td>\n",
              "      <td>25.0</td>\n",
              "      <td>67.0</td>\n",
              "      <td>0.9968</td>\n",
              "      <td>3.20</td>\n",
              "      <td>0.68</td>\n",
              "      <td>9.8</td>\n",
              "      <td>5</td>\n",
              "      <td>red</td>\n",
              "    </tr>\n",
              "    <tr>\n",
              "      <th>2</th>\n",
              "      <td>7.8</td>\n",
              "      <td>0.76</td>\n",
              "      <td>0.04</td>\n",
              "      <td>2.3</td>\n",
              "      <td>0.092</td>\n",
              "      <td>15.0</td>\n",
              "      <td>54.0</td>\n",
              "      <td>0.9970</td>\n",
              "      <td>3.26</td>\n",
              "      <td>0.65</td>\n",
              "      <td>9.8</td>\n",
              "      <td>5</td>\n",
              "      <td>red</td>\n",
              "    </tr>\n",
              "    <tr>\n",
              "      <th>3</th>\n",
              "      <td>11.2</td>\n",
              "      <td>0.28</td>\n",
              "      <td>0.56</td>\n",
              "      <td>1.9</td>\n",
              "      <td>0.075</td>\n",
              "      <td>17.0</td>\n",
              "      <td>60.0</td>\n",
              "      <td>0.9980</td>\n",
              "      <td>3.16</td>\n",
              "      <td>0.58</td>\n",
              "      <td>9.8</td>\n",
              "      <td>6</td>\n",
              "      <td>red</td>\n",
              "    </tr>\n",
              "    <tr>\n",
              "      <th>4</th>\n",
              "      <td>7.4</td>\n",
              "      <td>0.70</td>\n",
              "      <td>0.00</td>\n",
              "      <td>1.9</td>\n",
              "      <td>0.076</td>\n",
              "      <td>11.0</td>\n",
              "      <td>34.0</td>\n",
              "      <td>0.9978</td>\n",
              "      <td>3.51</td>\n",
              "      <td>0.56</td>\n",
              "      <td>9.4</td>\n",
              "      <td>5</td>\n",
              "      <td>red</td>\n",
              "    </tr>\n",
              "    <tr>\n",
              "      <th>5</th>\n",
              "      <td>7.4</td>\n",
              "      <td>0.66</td>\n",
              "      <td>0.00</td>\n",
              "      <td>1.8</td>\n",
              "      <td>0.075</td>\n",
              "      <td>13.0</td>\n",
              "      <td>40.0</td>\n",
              "      <td>0.9978</td>\n",
              "      <td>3.51</td>\n",
              "      <td>0.56</td>\n",
              "      <td>9.4</td>\n",
              "      <td>5</td>\n",
              "      <td>red</td>\n",
              "    </tr>\n",
              "    <tr>\n",
              "      <th>6</th>\n",
              "      <td>7.9</td>\n",
              "      <td>0.60</td>\n",
              "      <td>0.06</td>\n",
              "      <td>1.6</td>\n",
              "      <td>0.069</td>\n",
              "      <td>15.0</td>\n",
              "      <td>59.0</td>\n",
              "      <td>0.9964</td>\n",
              "      <td>3.30</td>\n",
              "      <td>0.46</td>\n",
              "      <td>9.4</td>\n",
              "      <td>5</td>\n",
              "      <td>red</td>\n",
              "    </tr>\n",
              "    <tr>\n",
              "      <th>7</th>\n",
              "      <td>7.3</td>\n",
              "      <td>0.65</td>\n",
              "      <td>0.00</td>\n",
              "      <td>1.2</td>\n",
              "      <td>0.065</td>\n",
              "      <td>15.0</td>\n",
              "      <td>21.0</td>\n",
              "      <td>0.9946</td>\n",
              "      <td>3.39</td>\n",
              "      <td>0.47</td>\n",
              "      <td>10.0</td>\n",
              "      <td>7</td>\n",
              "      <td>red</td>\n",
              "    </tr>\n",
              "    <tr>\n",
              "      <th>8</th>\n",
              "      <td>7.8</td>\n",
              "      <td>0.58</td>\n",
              "      <td>0.02</td>\n",
              "      <td>2.0</td>\n",
              "      <td>0.073</td>\n",
              "      <td>9.0</td>\n",
              "      <td>18.0</td>\n",
              "      <td>0.9968</td>\n",
              "      <td>3.36</td>\n",
              "      <td>0.57</td>\n",
              "      <td>9.5</td>\n",
              "      <td>7</td>\n",
              "      <td>red</td>\n",
              "    </tr>\n",
              "    <tr>\n",
              "      <th>9</th>\n",
              "      <td>7.5</td>\n",
              "      <td>0.50</td>\n",
              "      <td>0.36</td>\n",
              "      <td>6.1</td>\n",
              "      <td>0.071</td>\n",
              "      <td>17.0</td>\n",
              "      <td>102.0</td>\n",
              "      <td>0.9978</td>\n",
              "      <td>3.35</td>\n",
              "      <td>0.80</td>\n",
              "      <td>10.5</td>\n",
              "      <td>5</td>\n",
              "      <td>red</td>\n",
              "    </tr>\n",
              "  </tbody>\n",
              "</table>\n",
              "</div>"
            ],
            "text/plain": [
              "   fixed acidity  volatile acidity  citric acid  residual sugar  chlorides  \\\n",
              "0            7.4              0.70         0.00             1.9      0.076   \n",
              "1            7.8              0.88         0.00             2.6      0.098   \n",
              "2            7.8              0.76         0.04             2.3      0.092   \n",
              "3           11.2              0.28         0.56             1.9      0.075   \n",
              "4            7.4              0.70         0.00             1.9      0.076   \n",
              "5            7.4              0.66         0.00             1.8      0.075   \n",
              "6            7.9              0.60         0.06             1.6      0.069   \n",
              "7            7.3              0.65         0.00             1.2      0.065   \n",
              "8            7.8              0.58         0.02             2.0      0.073   \n",
              "9            7.5              0.50         0.36             6.1      0.071   \n",
              "\n",
              "   free sulfur dioxide  total sulfur dioxide  density    pH  sulphates  \\\n",
              "0                 11.0                  34.0   0.9978  3.51       0.56   \n",
              "1                 25.0                  67.0   0.9968  3.20       0.68   \n",
              "2                 15.0                  54.0   0.9970  3.26       0.65   \n",
              "3                 17.0                  60.0   0.9980  3.16       0.58   \n",
              "4                 11.0                  34.0   0.9978  3.51       0.56   \n",
              "5                 13.0                  40.0   0.9978  3.51       0.56   \n",
              "6                 15.0                  59.0   0.9964  3.30       0.46   \n",
              "7                 15.0                  21.0   0.9946  3.39       0.47   \n",
              "8                  9.0                  18.0   0.9968  3.36       0.57   \n",
              "9                 17.0                 102.0   0.9978  3.35       0.80   \n",
              "\n",
              "   alcohol  quality wine_type  \n",
              "0      9.4        5       red  \n",
              "1      9.8        5       red  \n",
              "2      9.8        5       red  \n",
              "3      9.8        6       red  \n",
              "4      9.4        5       red  \n",
              "5      9.4        5       red  \n",
              "6      9.4        5       red  \n",
              "7     10.0        7       red  \n",
              "8      9.5        7       red  \n",
              "9     10.5        5       red  "
            ]
          },
          "execution_count": 83,
          "metadata": {},
          "output_type": "execute_result"
        }
      ],
      "source": [
        "df.head(10)"
      ]
    },
    {
      "cell_type": "markdown",
      "metadata": {
        "colab_type": "text",
        "id": "hn48zfvE9r-a"
      },
      "source": [
        "## 2.3 Verify Data Quality <a class=\"anchor\"></a>\n",
        "\n",
        "* The dataset is structurally complete, comprising 6,497 instances and 13 attributes (11 predictor variables, 1 dataset identity variable  and 1 target variable) that was confirmed in 2.2 Described Data section. It includes all features required for predictive modelling of wine quality and covers both red and white wine samples.\n",
        "* Most features in the dataset represent physical or chemical measurements (e.g., acidity, sugar, alcohol) that cannot be negative in real-world scenarios. Values like pH, sulfur dioxide(SO<sub>2</sub>), and alcohol content are based on standard measuring units, where negative quantities are scientifically invalid. If negative values appear, they likely indicate data entry errors or corruption and should be investigated or removed.\n",
        "* According to the original source (Cortez et al., 2009), the dataset contains no missing values. In adherence to standard data preprocessing protocols, a programmatic verification was conducted to confirm this assertion.\n",
        "* A check for data quality also includes searching for duplicate records, as they can bias the analysis. The verification found 1,177 duplicate rows in the dataset. These duplicates were removed and verified properly..\n"
      ]
    },
    {
      "cell_type": "code",
      "execution_count": 94,
      "metadata": {},
      "outputs": [
        {
          "name": "stdout",
          "output_type": "stream",
          "text": [
            "No negative values found in the dataset.\n"
          ]
        }
      ],
      "source": [
        "# track the features with negative values\n",
        "neg_features = []\n",
        "for feature in df.columns[0:-2]:  # Iterate through all columns except last 2\n",
        "    if (df[feature] < 0).any():   # Check if any values are negative\n",
        "        neg_features.append(feature)\n",
        "\n",
        "if neg_features:\n",
        "    print(f\"The features with negative values are: {neg_features}\")\n",
        "else:\n",
        "    print(\"No negative values found in the dataset.\")"
      ]
    },
    {
      "cell_type": "markdown",
      "metadata": {},
      "source": [
        "`The outcome confirms the validity of the dataset as there is not negative quantity present in the numerical features of the dataset`"
      ]
    },
    {
      "cell_type": "code",
      "execution_count": 96,
      "metadata": {},
      "outputs": [
        {
          "name": "stdout",
          "output_type": "stream",
          "text": [
            "Number of duplicate rows found: 1177\n",
            "\n",
            "Sample of duplicate rows:\n",
            "    fixed acidity  volatile acidity  citric acid  residual sugar  chlorides  \\\n",
            "0             7.4              0.70         0.00             1.9      0.076   \n",
            "4             7.4              0.70         0.00             1.9      0.076   \n",
            "9             7.5              0.50         0.36             6.1      0.071   \n",
            "11            7.5              0.50         0.36             6.1      0.071   \n",
            "22            7.9              0.43         0.21             1.6      0.106   \n",
            "\n",
            "    free sulfur dioxide  total sulfur dioxide  density    pH  sulphates  \\\n",
            "0                  11.0                  34.0   0.9978  3.51       0.56   \n",
            "4                  11.0                  34.0   0.9978  3.51       0.56   \n",
            "9                  17.0                 102.0   0.9978  3.35       0.80   \n",
            "11                 17.0                 102.0   0.9978  3.35       0.80   \n",
            "22                 10.0                  37.0   0.9966  3.17       0.91   \n",
            "\n",
            "    alcohol  quality wine_type  \n",
            "0       9.4        5       red  \n",
            "4       9.4        5       red  \n",
            "9      10.5        5       red  \n",
            "11     10.5        5       red  \n",
            "22      9.5        5       red  \n"
          ]
        }
      ],
      "source": [
        "# To count the number of duplicate rows\n",
        "duplicate_count = df.duplicated().sum()\n",
        "print(f\"Number of duplicate rows found: {duplicate_count}\")\n",
        "\n",
        "# To view the first 5 rows that are duplicates\n",
        "if duplicate_count > 0:\n",
        "    print(\"\\nSample of duplicate rows:\")\n",
        "    # Using keep=False shows all occurrences of a duplicated row\n",
        "    print(df[df.duplicated(keep=False)].head())"
      ]
    },
    {
      "cell_type": "markdown",
      "metadata": {
        "colab_type": "text",
        "id": "D_xLibVB9r-b"
      },
      "source": [
        "### 2.3.1. Outliers <a class=\"anchor\"></a>\n",
        "At this point, we may also want to remove any outliers. These can be due to typos in data entry, mistakes in units, or they could be legitimate but extreme values or rare events. For this assessment, you don't need to worry about outliers. However, you would remove anomalies based on the definition of extreme outliers:\n",
        "\n",
        "https://www.itl.nist.gov/div898/handbook/prc/section1/prc16.htm\n",
        "\n",
        "- Below the first quartile − 3 ∗ interquartile range\n",
        "- Above the third quartile + 3 ∗ interquartile range"
      ]
    },
    {
      "cell_type": "markdown",
      "metadata": {
        "colab_type": "text",
        "id": "u5jagtIN9r-b"
      },
      "source": [
        "## 2.4 Initial Data Exploration  <a class=\"anchor\"></a>\n",
        "During this stage, address data questions using querying, data visualization and reporting techniques. These may include:\n",
        "\n",
        "- **Distribution** of key attributes (for example, the target attribute of a prediction task)\n",
        "- **Relationships** between pairs or small numbers of attributes\n",
        "- Results of **simple aggregations**\n",
        "- **Properties** of significant sub-populations\n",
        "- **Simple** statistical analyses\n",
        "\n",
        "These analyses may contribute to or refine the data description and quality aspects of your report, and feed into other data preparation steps needed for further analysis. \n",
        "\n",
        "- **Data exploration component of your report** - Describe results of your data exploration, including first findings or initial hypothesis and their impact on the remainder of the project. Include graphs and plots here to indicate data characteristics that suggest further examination of interesting data subsets."
      ]
    },
    {
      "cell_type": "markdown",
      "metadata": {
        "colab_type": "text",
        "id": "-PuG4fY59r-c"
      },
      "source": [
        "### 2.4.1 Distributions  <a class=\"anchor\"></a>"
      ]
    },
    {
      "cell_type": "code",
      "execution_count": null,
      "metadata": {
        "colab": {},
        "colab_type": "code",
        "id": "wZjwoFSt9r-d"
      },
      "outputs": [],
      "source": [
        "def count_values_table(df):\n",
        "        count_val = df.value_counts()\n",
        "        count_val_percent = 100 * df.value_counts() / len(df)\n",
        "        count_val_table = pd.concat([count_val, count_val_percent.round(1)], axis=1)\n",
        "        count_val_table_ren_columns = count_val_table.rename(\n",
        "        columns = {0 : 'Count Values', 1 : '% of Total Values'})\n",
        "        return count_val_table_ren_columns"
      ]
    },
    {
      "cell_type": "code",
      "execution_count": null,
      "metadata": {
        "colab": {},
        "colab_type": "code",
        "id": "6rXORJz39r-g"
      },
      "outputs": [],
      "source": [
        "# Histogram\n",
        "def hist_chart(df, col):\n",
        "        plt.style.use('fivethirtyeight')\n",
        "        plt.hist(df[col].dropna(), edgecolor = 'k');\n",
        "        plt.xlabel(col); plt.ylabel('Number of Entries'); \n",
        "        plt.title('Distribution of '+col);"
      ]
    },
    {
      "cell_type": "code",
      "execution_count": null,
      "metadata": {
        "colab": {},
        "colab_type": "code",
        "id": "qpSnggtw9r-j"
      },
      "outputs": [],
      "source": [
        "# col = 'account_risk_band'\n",
        "# Histogram & Results\n",
        "# hist_chart(df, col)\n",
        "# count_values_table(df.account_risk_band)"
      ]
    },
    {
      "cell_type": "markdown",
      "metadata": {
        "colab_type": "text",
        "id": "3FVZDz7I9r-m"
      },
      "source": [
        "### 2.4.2 Correlations  <a class=\"anchor\"></a>\n",
        "Can we derive any correlation from this data-set. Pairplot chart gives us correlations, distributions and regression path\n",
        "Correlogram are awesome for exploratory analysis. It allows to quickly observe the relationship between every variable of your matrix. \n",
        "It is easy to do it with seaborn: just call the pairplot function\n",
        "\n",
        "Pairplot documentation is found here: https://seaborn.pydata.org/generated/seaborn.pairplot.html"
      ]
    },
    {
      "cell_type": "code",
      "execution_count": null,
      "metadata": {
        "colab": {},
        "colab_type": "code",
        "id": "CKo-HD0m9r-n"
      },
      "outputs": [],
      "source": [
        "#Seaborn allows to make a correlogram or correlation matrix really easily. \n",
        "#sns.pairplot(df.dropna().drop(['x'], axis=1), hue='y', kind ='reg')\n",
        "\n",
        "#plt.show()\n"
      ]
    },
    {
      "cell_type": "code",
      "execution_count": 1,
      "metadata": {
        "colab": {},
        "colab_type": "code",
        "id": "6Ckxwktv9r-p"
      },
      "outputs": [],
      "source": [
        "#df_agg = df.drop(['x'], axis=1).groupby(['y']).sum()\n",
        "#df_agg = df.groupby(['y']).sum()"
      ]
    },
    {
      "cell_type": "markdown",
      "metadata": {
        "colab_type": "text",
        "id": "YTYwzdtU9r-s"
      },
      "source": [
        "# 3. Stage Three - Data Preparation <a class=\"anchor\"></a>\n",
        "This is the stage of the project where you decide on the data that you're going to use for analysis. The criteria you might use to make this decision include the relevance of the data to your data mining goals, the quality of the data, and also technical constraints such as limits on data volume or data types. Note that data selection covers selection of attributes (columns) as well as selection of records (rows) in a table."
      ]
    },
    {
      "cell_type": "markdown",
      "metadata": {
        "colab_type": "text",
        "id": "jSnIzuW39r-s"
      },
      "source": [
        "## 3.1 Select Your Data <a class=\"anchor\"></a>\n",
        "This is the stage of the project where you decide on the data that you're going to use for analysis. The criteria you might use to make this decision include the relevance of the data to your machine learning goal, the quality of the data, and also technical constraints such as limits on data volume or data types. Note that data selection covers selection of attributes (columns) as well as selection of records (rows) in a table.\n",
        "\n",
        "Rationale for inclusion/exclusion - List the data to be included/excluded and the reasons for these decisions."
      ]
    },
    {
      "cell_type": "code",
      "execution_count": null,
      "metadata": {
        "colab": {},
        "colab_type": "code",
        "id": "7fMq8Mfe9r-u"
      },
      "outputs": [],
      "source": [
        "X_train_regr = df.drop(['date_maint', 'account_open_date'], axis = 1)\n",
        "X_train = df.drop(['target', 'date_maint', 'account_open_date'], axis = 1)\n",
        "X_test = test.drop(['date_maint', 'account_open_date'], axis = 1)"
      ]
    },
    {
      "cell_type": "markdown",
      "metadata": {
        "colab_type": "text",
        "id": "4p9JwKkU9r-w"
      },
      "source": [
        "## 3.2 Clean The Data <a class=\"anchor\"></a>\n",
        "This task involves raising the data quality to the level required by the analysis techniques that you've selected. This may involve selecting clean subsets of the data, the insertion of suitable defaults, or more ambitious techniques such as the estimation of missing data by modelling."
      ]
    },
    {
      "cell_type": "markdown",
      "metadata": {
        "colab_type": "text",
        "id": "dirqThh89r-w"
      },
      "source": [
        "# 4. Stage Four - Modelling <a class=\"anchor\"></a>\n",
        "As the first step in modelling, you'll select the actual modelling technique that you'll be using e.g.Linear Regression \n"
      ]
    },
    {
      "cell_type": "markdown",
      "metadata": {
        "colab_type": "text",
        "id": "tAFdU3DZ9r-x"
      },
      "source": [
        "## 4.1. Modelling technique <a class=\"anchor\"></a>\n",
        "Document the actual modelling technique that is to be used.\n",
        "\n",
        "Import Models in your code below:"
      ]
    },
    {
      "cell_type": "markdown",
      "metadata": {
        "colab_type": "text",
        "id": "B3oshQ_J9r-x"
      },
      "source": [
        "## 4.2. Modelling assumptions <a class=\"anchor\"></a>\n",
        "Many modelling techniques make specific assumptions about the data, for example that all attributes have uniform distributions, no missing values allowed, class attribute must be symbolic etc. Record any assumptions made.\n"
      ]
    },
    {
      "cell_type": "markdown",
      "metadata": {
        "colab_type": "text",
        "id": "EBP69t3Q9r-y"
      },
      "source": [
        "## 4.3. Build Model <a class=\"anchor\"></a>\n",
        "Run the modelling tool on the prepared dataset to create your model.\n",
        "\n",
        "**Parameter settings** - With any modelling tool there are often a large number of parameters that can be adjusted. List the parameters and their chosen values, along with the rationale for the choice of parameter settings.\n",
        "\n",
        "**Model** - This is the actual model produced by the modelling tool, not a report on the model.\n",
        "\n",
        "**Model description** - Describe the resulting model, report on the interpretation of the model and document any difficulties encountered with their meanings."
      ]
    },
    {
      "cell_type": "markdown",
      "metadata": {
        "colab_type": "text",
        "id": "WChMZ2Uk9r-y"
      },
      "source": [
        "## 4.4. Assess Model <a class=\"anchor\"></a>\n",
        "Interpret the models according to your knowledge, your prediction success criteria and your desired test design. Judge the success of the application of modelling and discovery techniques technically to discuss the machine learning results in the business context. This task only considers models, whereas the evaluation phase also takes into account all other results that were produced in the course of the project.\n",
        "\n",
        "At this stage you should rank the models and assess them according to the evaluation criteria. You should take the business objectives and business success criteria into account as far as you can here. In most ML projects a single technique is applied more than once and results are generated with several different techniques. \n",
        "\n",
        "**Model assessment** - Summarise the results of this task, list the qualities of your generated models (e.g.in terms of accuracy) and rank their quality in relation to each other.\n",
        "\n",
        "**Revised parameter settings** - According to the model assessment, revise parameter settings and tune them for the next modelling run. Iterate model building and assessment until you strongly believe that you have found the best model. Document all such revisions and assessments."
      ]
    },
    {
      "cell_type": "markdown",
      "metadata": {
        "colab_type": "text",
        "id": "s2xPWHz-9r-z"
      },
      "source": [
        "# 5. Stage 5 - Evaluate  <a class=\"anchor\"></a>\n",
        "Previous steps deal with the accuracy and generality of the model. During this step you should assesses the degree to which the model meets your business objectives and seek to determine if there is some business reason why this model is deficient. \n",
        "\n",
        "Assessment of machine learning results - Summarise assessment results in terms of business success criteria, including a final statement regarding whether the project meets the initial business objectives.\n",
        "Approved models - After assessing models with respect to business success criteria, the generated models that meet the selected criteria become the approved models. For this initial assessment, you are only required to consider one model."
      ]
    },
    {
      "cell_type": "markdown",
      "metadata": {
        "colab_type": "text",
        "id": "l4kiQur79r-z"
      },
      "source": [
        "# 6. Stage 6 - Deploy  <a class=\"anchor\"></a>\n",
        "\n",
        "In the deployment stage you would determine a strategy for their deployment and document here together with ongoing monitoring and maintenance of your model. This is particularly important as a predictive machine learning model significantly impacts business operations. For the purposes of this assessment we will use this section to conclude the report. The previous steps should contain your code and narrative text inserted at the relevant sections. Here, you should look at lessons learnt. This includes the things that went right, what went wrong, what you did well and areas for improvement. Additionally, summarise any other expereinces during the project.   \n",
        "\n"
      ]
    }
  ],
  "metadata": {
    "colab": {
      "name": "CRISP-DM Template.ipynb",
      "provenance": []
    },
    "kernelspec": {
      "display_name": "Python 3",
      "language": "python",
      "name": "python3"
    },
    "language_info": {
      "codemirror_mode": {
        "name": "ipython",
        "version": 3
      },
      "file_extension": ".py",
      "mimetype": "text/x-python",
      "name": "python",
      "nbconvert_exporter": "python",
      "pygments_lexer": "ipython3",
      "version": "3.12.2"
    }
  },
  "nbformat": 4,
  "nbformat_minor": 0
}
